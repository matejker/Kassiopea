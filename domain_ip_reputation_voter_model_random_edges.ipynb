{
 "cells": [
  {
   "cell_type": "markdown",
   "metadata": {},
   "source": [
    "# Configuration models and synthetic networks\n",
    "In order to understand the significance of our network's topology we built two synthetic models which have the same properties as our network. We kept the degree distribution, number of zealots and their ratios (number of blacklisted / whitelisted nodes). The model has the following configurations: \n",
    "\n",
    "<b>Randomly shuffled links:</b> We kept the nodes susceptibility and labels as in the original network but we shuffled the links at random keeping the degree distribution of each node.\n",
    "\n",
    "Then we run our configuration of the voter model on a projected network. We ran $m=50$ realizations of the voter model and plot the relative number of changes. Then we choosed 3/10ths as a testing set, compute the confusion matrix, ROC curve and total accuracy."
   ]
  },
  {
   "cell_type": "code",
   "execution_count": 1,
   "metadata": {},
   "outputs": [],
   "source": [
    "import voter_model as vm\n",
    "from kassiopea import Kassiopea\n",
    "from tools import plot_roc, plot_pdf, round_acc, round_acc2\n",
    "\n",
    "from copy import deepcopy\n",
    "import matplotlib.pyplot as plt\n",
    "import numpy as np\n",
    "import random as r\n",
    "import time\n",
    "import csv"
   ]
  },
  {
   "cell_type": "code",
   "execution_count": 2,
   "metadata": {},
   "outputs": [],
   "source": [
    "def random_edges(edge_list, A, B, i, j):\n",
    "    if (A[i], B[j]) not in edge_list:\n",
    "        edge_list.append((A[i], B[j]))\n",
    "        del A[i]\n",
    "        del B[j]\n",
    "    return edge_list"
   ]
  },
  {
   "cell_type": "code",
   "execution_count": 3,
   "metadata": {},
   "outputs": [
    {
     "name": "stdout",
     "output_type": "stream",
     "text": [
      "Network is created in: 279.76s\n"
     ]
    }
   ],
   "source": [
    "start = time.time()\n",
    "K = Kassiopea()\n",
    "\n",
    "# Statistics of initial states counts\n",
    "blacklisted = 0\n",
    "whitelisted = 0\n",
    "uknown = 0\n",
    "\n",
    "IPs = []\n",
    "dns = []\n",
    "\n",
    "# Add network's nodes and edges from file\n",
    "with open(\"data/data.csv\") as csvfile: \n",
    "    reader = csv.DictReader(csvfile)\n",
    "    for row in reader:\n",
    "        # Create domain's nodes\n",
    "        if row[\"domain\"] not in K.get_nodes():\n",
    "            label = int(row[\"domain_state\"])\n",
    "            if label == 0:\n",
    "                zea = 1\n",
    "                label = 0\n",
    "                uknown += 1\n",
    "            else:\n",
    "                zea = 0\n",
    "                if label == 1:\n",
    "                    whitelisted += 1\n",
    "                else:\n",
    "                    blacklisted += 1\n",
    "                    \n",
    "            K.add_node(row['domain'], zea=zea, label=label)\n",
    "        \n",
    "        # Create ip's nodes \n",
    "        if row[\"ip\"] not in K.get_nodes():\n",
    "            label = int(row[\"ip_state\"])\n",
    "            if label == 0:\n",
    "                zea = 1\n",
    "                uknown += 1\n",
    "            else:\n",
    "                zea = 0\n",
    "                if label == 1:\n",
    "                    whitelisted += 1\n",
    "                else:\n",
    "                    blacklisted += 1\n",
    "    \n",
    "            K.add_node(row[\"ip\"], zea=zea, label=label)\n",
    "        \n",
    "        # Create an edge between IP <-> Domain\n",
    "        IPs.append(row[\"ip\"])\n",
    "        dns.append(row[\"domain\"])\n",
    "        \n",
    "print(f\"Network is created in: {round(time.time() - start, 3)}s\")"
   ]
  },
  {
   "cell_type": "code",
   "execution_count": 6,
   "metadata": {},
   "outputs": [],
   "source": [
    "r.shuffle(IPs)\n",
    "r.shuffle(dns)\n",
    "edge_list = [(IPs[i], dns[i]) for i, n in enumerate(IPs)]\n",
    "for e in edge_list:\n",
    "    K.add_edge(e[1], e[0])\n",
    "    \n",
    "# As the original labels and zeas will be changed, we deepcopy them \n",
    "original_labels = deepcopy(K.label)\n",
    "original_zeas = deepcopy(K.zea)\n",
    "\n",
    "# Selecting the zeas from the dataset\n",
    "zeas = [i for i, v in enumerate(original_zeas) if v == 0]\n",
    "num_zeas = len(zeas)"
   ]
  },
  {
   "cell_type": "code",
   "execution_count": 8,
   "metadata": {},
   "outputs": [
    {
     "name": "stdout",
     "output_type": "stream",
     "text": [
      "Time used for this realization: 6.014s realization: 1 / 50\n",
      "Time used for this realization: 6.643s realization: 2 / 50\n",
      "Time used for this realization: 6.387s realization: 3 / 50\n",
      "Time used for this realization: 6.669s realization: 4 / 50\n",
      "Time used for this realization: 6.637s realization: 5 / 50\n",
      "Time used for this realization: 6.445s realization: 6 / 50\n",
      "Time used for this realization: 6.58s realization: 7 / 50\n",
      "Time used for this realization: 6.5s realization: 8 / 50\n",
      "Time used for this realization: 8.073s realization: 9 / 50\n",
      "Time used for this realization: 6.642s realization: 10 / 50\n",
      "Time used for this realization: 6.793s realization: 11 / 50\n",
      "Time used for this realization: 6.687s realization: 12 / 50\n",
      "Time used for this realization: 6.437s realization: 13 / 50\n",
      "Time used for this realization: 6.84s realization: 14 / 50\n",
      "Time used for this realization: 6.473s realization: 15 / 50\n",
      "Time used for this realization: 6.74s realization: 16 / 50\n",
      "Time used for this realization: 6.756s realization: 17 / 50\n",
      "Time used for this realization: 6.441s realization: 18 / 50\n",
      "Time used for this realization: 6.44s realization: 19 / 50\n",
      "Time used for this realization: 6.303s realization: 20 / 50\n",
      "Time used for this realization: 6.776s realization: 21 / 50\n",
      "Time used for this realization: 6.366s realization: 22 / 50\n",
      "Time used for this realization: 6.176s realization: 23 / 50\n",
      "Time used for this realization: 7.234s realization: 24 / 50\n",
      "Time used for this realization: 6.978s realization: 25 / 50\n",
      "Time used for this realization: 7.076s realization: 26 / 50\n",
      "Time used for this realization: 6.996s realization: 27 / 50\n",
      "Time used for this realization: 6.54s realization: 28 / 50\n",
      "Time used for this realization: 7.178s realization: 29 / 50\n",
      "Time used for this realization: 6.386s realization: 30 / 50\n",
      "Time used for this realization: 9.542s realization: 31 / 50\n",
      "Time used for this realization: 8.443s realization: 32 / 50\n",
      "Time used for this realization: 7.56s realization: 33 / 50\n",
      "Time used for this realization: 6.804s realization: 34 / 50\n",
      "Time used for this realization: 7.302s realization: 35 / 50\n",
      "Time used for this realization: 6.819s realization: 36 / 50\n",
      "Time used for this realization: 6.369s realization: 37 / 50\n",
      "Time used for this realization: 6.694s realization: 38 / 50\n",
      "Time used for this realization: 7.048s realization: 39 / 50\n",
      "Time used for this realization: 6.712s realization: 40 / 50\n",
      "Time used for this realization: 6.698s realization: 41 / 50\n",
      "Time used for this realization: 6.701s realization: 42 / 50\n",
      "Time used for this realization: 6.818s realization: 43 / 50\n",
      "Time used for this realization: 7.124s realization: 44 / 50\n",
      "Time used for this realization: 6.67s realization: 45 / 50\n",
      "Time used for this realization: 6.827s realization: 46 / 50\n",
      "Time used for this realization: 6.724s realization: 47 / 50\n",
      "Time used for this realization: 6.796s realization: 48 / 50\n",
      "Time used for this realization: 6.721s realization: 49 / 50\n",
      "Time used for this realization: 6.536s realization: 50 / 50\n"
     ]
    }
   ],
   "source": [
    "# Statistics of final states counts\n",
    "blacklisted_f = 0\n",
    "whitelisted_f = 0\n",
    "unknown_f = 0\n",
    "    \n",
    "rate = {}\n",
    "num_nodes = len(K.get_nodes())\n",
    "stopping_time = []\n",
    "\n",
    "# Num of realisation of Voter Model\n",
    "m = 50\n",
    "\n",
    "# Fraction size of the trainning data set\n",
    "accs = 3 / 10\n",
    "num_ch = int(num_zeas * accs)\n",
    "random_z = r.sample(zeas, num_ch)\n",
    "\n",
    "# Set the lables to original labels\n",
    "K.update_label(original_labels)\n",
    "K.update_zea(original_zeas)\n",
    "\n",
    "# Trainning zeas are labeled as unknown\n",
    "for n in random_z:\n",
    "    K.update_zea_node(n, 1)\n",
    "    K.update_label_node(n, 0)\n",
    "\n",
    "# Deepcopy current labels with trainning zeas\n",
    "labels = deepcopy(K.label)\n",
    "rate = [0] * num_nodes    \n",
    "\n",
    "# Running m independent realisation of Voter Model\n",
    "for i in range(m):\n",
    "    # Set the labels to original ones\n",
    "    K.update_label(labels)\n",
    "    stop = time.time()\n",
    "    hist,x, st, u = vm.voter_model_realisation(K)\n",
    "    print(f\"Time used for this realization: {round(time.time() - stop, 3)}s realization: {i + 1} / {m}\")\n",
    "    \n",
    "    # Assign rate for later computing of longterm average\n",
    "    for n in range(num_nodes):\n",
    "        rate[n] += int(K.label[n])"
   ]
  },
  {
   "cell_type": "markdown",
   "metadata": {},
   "source": [
    "After m realisations are run we can make some statistics and take a look on accuracy. Under confustion matrix we understand: \n",
    "$$\\begin{bmatrix}\n",
    "    TrueWhitelisted & FlaseWhitelisted \\\\\n",
    "    FalseBlacklisted & TrueBlacklisted \\\\\n",
    "\\end{bmatrix}$$"
   ]
  },
  {
   "cell_type": "code",
   "execution_count": 10,
   "metadata": {},
   "outputs": [
    {
     "name": "stdout",
     "output_type": "stream",
     "text": [
      "Confusion matrix, relative numbers\n",
      "[0.25123153 0.74876847]\n",
      "[0.34666667 0.65333333] \n",
      "\n",
      "Confusion matrix, absolute numbers\n",
      "[[ 51. 152.]\n",
      " [260. 490.]]\n",
      "Accuracy: 0.568 %\n",
      "\n",
      "Statistics about states\n",
      "#Uknown: (before, after): (8210, 93674)\n",
      "#Whitelisted: (before, after): (25316, 643)\n",
      "#Blacklisted: (before, after): (63327, 2536)\n",
      "\n",
      "Ratio whitelisted / blacklisted in the end: 0.4\n",
      "Ratio whitelisted / blacklisted in the beginning: 0.254\n",
      "#nodes: 96853\n",
      "#edges: 137289\n"
     ]
    }
   ],
   "source": [
    "# Confusion matrix\n",
    "confusion_matrix = np.zeros((2, 2))\n",
    "\n",
    "def round_1(x):\n",
    "    if x < 0:\n",
    "        return -1\n",
    "    elif x > 0:\n",
    "        return 1\n",
    "    else:\n",
    "        return 0\n",
    "    \n",
    "for n in random_z: \n",
    "    if original_labels[n] == round_1(rate[n]):\n",
    "        if original_labels[n] == 1:\n",
    "            confusion_matrix[0][0] += 1\n",
    "        else:\n",
    "            confusion_matrix[1][1] += 1\n",
    "    else:\n",
    "        if original_labels[n] == 1:\n",
    "            confusion_matrix[0][1] += 1\n",
    "        else:\n",
    "            confusion_matrix[1][0] += 1\n",
    "            \n",
    "print(\"Confusion matrix, relative numbers\")  \n",
    "print(confusion_matrix[0] / (confusion_matrix[0][1] + confusion_matrix[0][0]))\n",
    "print(confusion_matrix[1] / (confusion_matrix[1][1] + confusion_matrix[1][0]), \"\\n\")\n",
    "print(\"Confusion matrix, absolute numbers\")\n",
    "print(confusion_matrix)\n",
    "\n",
    "print(\"Accuracy:\", round((confusion_matrix[0][0] + confusion_matrix[1][1]) / len(random_z), 3), \"%\\n\")\n",
    "\n",
    "blacklisted_f = 0\n",
    "whitelisted_f = 0\n",
    "unknown_f = 0\n",
    "\n",
    "for n in range(num_nodes):\n",
    "    if (rate[n] / m) < 0:\n",
    "        blacklisted_f += 1\n",
    "    elif (rate[n] / m) > 0:\n",
    "        whitelisted_f += 1\n",
    "    else:\n",
    "        unknown_f += 1\n",
    "        \n",
    "print(\"Statistics about states\")\n",
    "print(f\"#Uknown: (before, after): {(unknown_f, unknown)}\")\n",
    "print(f\"#Whitelisted: (before, after): {(whitelisted_f, whitelisted)}\")\n",
    "print(f\"#Blacklisted: (before, after): {(blacklisted_f, blacklisted)}\\n\")\n",
    "\n",
    "print(f\"Ratio whitelisted / blacklisted in the end: {round(whitelisted_f / blacklisted_f, 3)}\")\n",
    "print(f\"Ratio whitelisted / blacklisted in the beginning: {round(whitelisted / blacklisted, 3)}\")\n",
    "print(f\"#nodes: {len(K.get_nodes())}\")\n",
    "print(f\"#edges: {len(K.get_edges())}\")"
   ]
  },
  {
   "cell_type": "markdown",
   "metadata": {},
   "source": [
    "In this section, we would like to present ROC curve and comparison between rate, eigenvalue centrality, degree distibution"
   ]
  },
  {
   "cell_type": "code",
   "execution_count": 11,
   "metadata": {},
   "outputs": [
    {
     "data": {
      "image/png": "[encoded data removed]",
      "text/plain": [
       "<Figure size 504x504 with 1 Axes>"
      ]
     },
     "metadata": {
      "needs_background": "light"
     },
     "output_type": "display_data"
    }
   ],
   "source": [
    "l = 50 \n",
    "wl = [(rate[n] / m) for n in random_z if original_labels[n] == 1]\n",
    "bl = [(rate[n] / m) for n in random_z if original_labels[n] == -1]\n",
    "\n",
    "hist_wl, bins = np.histogram(wl, bins=np.linspace(0, 1, l + 1), density=True)\n",
    "hist_bl, bins = np.histogram(bl, bins=np.linspace(0, 1, l + 1), density=True)\n",
    "\n",
    "fig, ax = plt.subplots(1, 1, figsize=(7, 7))\n",
    "plot_roc(hist_bl, hist_wl, ax, np.arange(0, l))\n",
    "plt.show()"
   ]
  },
  {
   "cell_type": "code",
   "execution_count": 13,
   "metadata": {},
   "outputs": [
    {
     "data": {
      "image/png": "[encoded data removed]",
      "text/plain": [
       "<Figure size 720x360 with 1 Axes>"
      ]
     },
     "metadata": {
      "needs_background": "light"
     },
     "output_type": "display_data"
    }
   ],
   "source": [
    "x = np.linspace(0, 1, num=l)\n",
    "    \n",
    "fig, ax = plt.subplots(1, 1, figsize=(10,5))\n",
    "plot_pdf(hist_bl, hist_wl, ax, x)\n",
    "plt.show()"
   ]
  },
  {
   "cell_type": "markdown",
   "metadata": {},
   "source": [
    "### Sources:\n",
    "[1] Receiver Operating Characteristic Curves Demystified (in Python), https://towardsdatascience.com/receiver-operating-characteristic-curves-demystified-in-python-bd531a4364d0"
   ]
  }
 ],
 "metadata": {
  "kernelspec": {
   "display_name": "Python 3",
   "language": "python",
   "name": "python3"
  },
  "language_info": {
   "codemirror_mode": {
    "name": "ipython",
    "version": 3
   },
   "file_extension": ".py",
   "mimetype": "text/x-python",
   "name": "python",
   "nbconvert_exporter": "python",
   "pygments_lexer": "ipython3",
   "version": "3.8.0"
  }
 },
 "nbformat": 4,
 "nbformat_minor": 2
}
