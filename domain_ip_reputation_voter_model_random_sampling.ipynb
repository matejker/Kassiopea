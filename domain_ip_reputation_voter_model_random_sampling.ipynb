{
 "cells": [
  {
   "cell_type": "markdown",
   "metadata": {},
   "source": [
    "# Configuration models and synthetic networks\n",
    "In order to understand the significance of our network's topology we built two synthetic models which have the same properties as our network. We kept the degree distribution, number of zealots and their ratios (number of blacklisted / whitelisted nodes). The model has the following configurations: \n",
    "\n",
    "<b>Randomly shuffled zealots:</b>  We kept the network structure and topology as it is. Nodes and links were in the original configuration. We also kept the susceptibility of nodes, but we shuffled the zealot's labels at random.\n",
    "\n",
    "Then we run our configuration of the voter model on a projected network. We ran $m=50$ realizations of the voter model and plot the relative number of changes. Then we choosed 3/10ths as a testing set, compute the confusion matrix, ROC curve and total accuracy."
   ]
  },
  {
   "cell_type": "code",
   "execution_count": 1,
   "metadata": {},
   "outputs": [],
   "source": [
    "import voter_model as vm\n",
    "from kassiopea import Kassiopea\n",
    "from tools import plot_roc, plot_pdf, round_acc, round_acc2\n",
    "\n",
    "from copy import deepcopy\n",
    "import matplotlib.pyplot as plt\n",
    "import numpy as np\n",
    "import random as r\n",
    "import time\n",
    "import csv"
   ]
  },
  {
   "cell_type": "code",
   "execution_count": 2,
   "metadata": {},
   "outputs": [
    {
     "name": "stdout",
     "output_type": "stream",
     "text": [
      "Network is created in: 552.404s\n"
     ]
    }
   ],
   "source": [
    "start = time.time()\n",
    "K = Kassiopea()\n",
    "\n",
    "# Statistics of initial states counts\n",
    "blacklisted = 0\n",
    "whitelisted = 0\n",
    "uknown = 0\n",
    "\n",
    "black_ip = 0\n",
    "white_ip = 0\n",
    "\n",
    "black_dns = 0\n",
    "white_dns = 0\n",
    "\n",
    "ip = []\n",
    "dns = []\n",
    "\n",
    "# Add network's nodes and edges from file\n",
    "with open(\"data/data.csv\") as csvfile: \n",
    "    reader = csv.DictReader(csvfile)\n",
    "    for row in reader:\n",
    "        # Create domain's nodes\n",
    "        if row[\"domain\"] not in K.get_nodes():\n",
    "            label = int(row[\"domain_state\"])\n",
    "            zea = 1\n",
    "            if label == 0:\n",
    "                label = 0\n",
    "                uknown += 1\n",
    "            else:\n",
    "                if label == 1:\n",
    "                    whitelisted += 1\n",
    "                    white_dns += 1\n",
    "                else:\n",
    "                    blacklisted += 1\n",
    "                    black_dns += 1\n",
    "                    \n",
    "            K.add_node(row['domain'], zea=zea, label=0)\n",
    "            dns.append(row['domain'])\n",
    "        \n",
    "        # Create ip's nodes \n",
    "        if row[\"ip\"] not in K.get_nodes():\n",
    "            label = int(row[\"ip_state\"])\n",
    "            if label == 0:\n",
    "                zea = 1\n",
    "                uknown += 1\n",
    "            else:\n",
    "                if label == 1:\n",
    "                    whitelisted += 1\n",
    "                    white_ip += 1\n",
    "                else:\n",
    "                    blacklisted += 1\n",
    "                    black_ip += 1\n",
    "    \n",
    "            K.add_node(row[\"ip\"], zea=zea, label=0)\n",
    "            ip.append(row[\"ip\"])\n",
    "        \n",
    "        # Create an edge between IP <-> Domain\n",
    "        K.add_edge(row['domain'], row['ip'])\n",
    "        \n",
    "print(f\"Network is created in: {round(time.time() - start, 3)}s\")"
   ]
  },
  {
   "cell_type": "code",
   "execution_count": 3,
   "metadata": {},
   "outputs": [],
   "source": [
    "# Assign \"zeas\" at random\n",
    "random_ip = r.sample(ip, black_ip + white_ip)\n",
    "random_dns = r.sample(dns, black_dns + white_dns)\n",
    "\n",
    "num_nodes = len(K.get_nodes())\n",
    "K.update_label([0] * num_nodes)\n",
    "K.update_zea([1] * num_nodes)\n",
    "\n",
    "for n in random_ip:\n",
    "    i = K.list_nodes.index(n)\n",
    "    K.update_zea_node(i, 0)\n",
    "    K.update_label_node(i, int(round((r.uniform(0, 1) < black_ip / white_ip) * (-2) + 1 , 0)))\n",
    "\n",
    "for n in random_dns:\n",
    "    i = K.list_nodes.index(n)\n",
    "    K.update_zea_node(i, 0)\n",
    "    K.update_label_node(i, int(round((r.uniform(0, 1) < white_dns / black_dns) * 2 -1 , 0)))"
   ]
  },
  {
   "cell_type": "code",
   "execution_count": 4,
   "metadata": {},
   "outputs": [],
   "source": [
    "original_labels = deepcopy(K.label)\n",
    "original_zeas = deepcopy(K.zea)\n",
    "\n",
    "# Selecting the \"zeas\" from the dataset\n",
    "zeas = [i for i, v in enumerate(original_zeas) if v == 0]\n",
    "num_zeas = len(zeas)"
   ]
  },
  {
   "cell_type": "code",
   "execution_count": 5,
   "metadata": {},
   "outputs": [
    {
     "name": "stdout",
     "output_type": "stream",
     "text": [
      "Time used for this realization: 6.537s realization: 1/50.\n",
      "Time used for this realization: 9.94s realization: 2/50.\n",
      "Time used for this realization: 7.67s realization: 3/50.\n",
      "Time used for this realization: 6.471s realization: 4/50.\n",
      "Time used for this realization: 6.221s realization: 5/50.\n",
      "Time used for this realization: 6.111s realization: 6/50.\n",
      "Time used for this realization: 6.281s realization: 7/50.\n",
      "Time used for this realization: 6.148s realization: 8/50.\n",
      "Time used for this realization: 5.857s realization: 9/50.\n",
      "Time used for this realization: 6.336s realization: 10/50.\n",
      "Time used for this realization: 6.342s realization: 11/50.\n",
      "Time used for this realization: 6.509s realization: 12/50.\n",
      "Time used for this realization: 5.722s realization: 13/50.\n",
      "Time used for this realization: 5.946s realization: 14/50.\n",
      "Time used for this realization: 5.801s realization: 15/50.\n",
      "Time used for this realization: 5.899s realization: 16/50.\n",
      "Time used for this realization: 6.034s realization: 17/50.\n",
      "Time used for this realization: 6.011s realization: 18/50.\n",
      "Time used for this realization: 5.862s realization: 19/50.\n",
      "Time used for this realization: 5.64s realization: 20/50.\n",
      "Time used for this realization: 6.004s realization: 21/50.\n",
      "Time used for this realization: 6.075s realization: 22/50.\n",
      "Time used for this realization: 6.142s realization: 23/50.\n",
      "Time used for this realization: 6.342s realization: 24/50.\n",
      "Time used for this realization: 6.065s realization: 25/50.\n",
      "Time used for this realization: 5.89s realization: 26/50.\n",
      "Time used for this realization: 5.606s realization: 27/50.\n",
      "Time used for this realization: 5.53s realization: 28/50.\n",
      "Time used for this realization: 5.519s realization: 29/50.\n",
      "Time used for this realization: 5.997s realization: 30/50.\n",
      "Time used for this realization: 6.081s realization: 31/50.\n",
      "Time used for this realization: 5.647s realization: 32/50.\n",
      "Time used for this realization: 6.289s realization: 33/50.\n",
      "Time used for this realization: 6.081s realization: 34/50.\n",
      "Time used for this realization: 6.088s realization: 35/50.\n",
      "Time used for this realization: 5.594s realization: 36/50.\n",
      "Time used for this realization: 5.681s realization: 37/50.\n",
      "Time used for this realization: 5.52s realization: 38/50.\n",
      "Time used for this realization: 5.648s realization: 39/50.\n",
      "Time used for this realization: 5.549s realization: 40/50.\n",
      "Time used for this realization: 5.739s realization: 41/50.\n",
      "Time used for this realization: 6.379s realization: 42/50.\n",
      "Time used for this realization: 6.086s realization: 43/50.\n",
      "Time used for this realization: 6.28s realization: 44/50.\n",
      "Time used for this realization: 5.885s realization: 45/50.\n",
      "Time used for this realization: 5.99s realization: 46/50.\n",
      "Time used for this realization: 5.774s realization: 47/50.\n",
      "Time used for this realization: 5.96s realization: 48/50.\n",
      "Time used for this realization: 5.905s realization: 49/50.\n",
      "Time used for this realization: 5.894s realization: 50/50.\n"
     ]
    }
   ],
   "source": [
    "# Statistics of final states counts\n",
    "blacklisted_f = 0\n",
    "whitelisted_f = 0\n",
    "uknown_f = 0\n",
    "    \n",
    "rate = {}\n",
    "stopping_time = []\n",
    "\n",
    "# Num of realisation of Voter Model\n",
    "m = 50\n",
    "\n",
    "# Fraction of the trainning data set\n",
    "accs = 3 / 10\n",
    "num_ch = int(num_zeas * accs)\n",
    "random_z = r.sample(zeas, num_ch)\n",
    "\n",
    "# Set the lables to original labels\n",
    "K.update_label(original_labels)\n",
    "K.update_zea(original_zeas)\n",
    "\n",
    "# Trainning zeas are labeled as unknown\n",
    "for n in random_z:\n",
    "    K.update_zea_node(n, 1)\n",
    "    K.update_label_node(n, 0)\n",
    "\n",
    "# Deepcopy current labels with trainning zeas\n",
    "labels = deepcopy(K.label)\n",
    "rate = [0] * num_nodes    \n",
    "\n",
    "# Running m independent realisation of Voter Model\n",
    "for i in range(m):\n",
    "    # Set the labels to original ones\n",
    "    K.update_label(labels)\n",
    "    stop = time.time()\n",
    "    hist, x, st, u = vm.voter_model_realisation(K)\n",
    "    print(f\"Time used for this realization: {round(time.time() - stop, 3)}s realization: {i + 1}/{m}.\")\n",
    "    \n",
    "    # Assign rate for later computing of longterm average\n",
    "    for n in range(num_nodes):\n",
    "        rate[n] += int(K.label[n])"
   ]
  },
  {
   "cell_type": "markdown",
   "metadata": {},
   "source": [
    "After m realisations are run we can make some statistics and take a look on accuracy. Under confustion matrix we understand: \n",
    "$$\\begin{bmatrix}\n",
    "    TrueWhitelisted & FlaseWhitelisted \\\\\n",
    "    FalseBlacklisted & TrueBlacklisted \\\\\n",
    "\\end{bmatrix}$$"
   ]
  },
  {
   "cell_type": "code",
   "execution_count": 6,
   "metadata": {},
   "outputs": [
    {
     "name": "stdout",
     "output_type": "stream",
     "text": [
      "Confusion matrix, relative numbers\n",
      "[0.04977376 0.95022624]\n",
      "[0.11748634 0.88251366] \n",
      "\n",
      "Confusion matrix, absolute numbers\n",
      "[[ 11. 210.]\n",
      " [ 86. 646.]]\n",
      "Accuracy: 0.689\n",
      "\n",
      "#Uknown: (before, after) (4930, 93674)\n",
      "#Whitelisted: (before, after) (8720, 643)\n",
      "#Blacklisted: (before, after) (83203, 2536)\n",
      "Ratio whitelisted/blacklisted in the end: 0.105\n",
      "Ratio whitelisted/blacklisted in the beginning: 0.254\n",
      "#nodes: 96853\n",
      "#edges: 137289\n"
     ]
    }
   ],
   "source": [
    "# Confusion matrix\n",
    "confusion_matrix = np.zeros((2,2))\n",
    "\n",
    "def round_1(x):\n",
    "    if x < 0:\n",
    "        return -1\n",
    "    elif x > 0:\n",
    "        return +1\n",
    "    else:\n",
    "        return 0\n",
    "    \n",
    "for n in random_z: \n",
    "    if original_labels[n] == round_1(rate[n]):\n",
    "        if original_labels[n] == 1:\n",
    "            confusion_matrix[0][0] +=1\n",
    "        else:\n",
    "            confusion_matrix[1][1] +=1\n",
    "    else:\n",
    "        if original_labels[n] == 1:\n",
    "            confusion_matrix[0][1] +=1\n",
    "        else:\n",
    "            confusion_matrix[1][0] +=1\n",
    "            \n",
    "print(\"Confusion matrix, relative numbers\")  \n",
    "print(confusion_matrix[0] / (confusion_matrix[0][1] + confusion_matrix[0][0]))\n",
    "print(confusion_matrix[1] / (confusion_matrix[1][1] + confusion_matrix[1][0]), \"\\n\")\n",
    "print(\"Confusion matrix, absolute numbers\")\n",
    "print(confusion_matrix)\n",
    "\n",
    "print(f\"Accuracy: {round((confusion_matrix[0][0] + confusion_matrix[1][1]) / len(random_z), 3)}\\n\")\n",
    "\n",
    "blacklisted_f = 0\n",
    "whitelisted_f = 0\n",
    "uknown_f = 0\n",
    "\n",
    "for n in range(num_nodes):\n",
    "    if (rate[n] / m) < 0:\n",
    "        blacklisted_f += 1\n",
    "    elif (rate[n] / m) > 0:\n",
    "        whitelisted_f += 1\n",
    "    else:\n",
    "        uknown_f += 1\n",
    "\n",
    "# Statistics about states\n",
    "print(f'#Uknown: (before, after) {(uknown_f, uknown)}')\n",
    "print(f'#Whitelisted: (before, after) {(whitelisted_f, whitelisted)}')\n",
    "print(f'#Blacklisted: (before, after) {(blacklisted_f, blacklisted)}')\n",
    "print(f'Ratio whitelisted/blacklisted in the end: {round(whitelisted_f / blacklisted_f, 3)}')\n",
    "print(f'Ratio whitelisted/blacklisted in the beginning: {round(whitelisted / blacklisted, 3)}')\n",
    "print(f'#nodes: {len(K.get_nodes())}')\n",
    "print(f'#edges: {len(K.get_edges())}')"
   ]
  },
  {
   "cell_type": "markdown",
   "metadata": {},
   "source": [
    "In this section, we would like to present ROC curve and comparison between rate, eigenvalue centrality, degree distibution"
   ]
  },
  {
   "cell_type": "code",
   "execution_count": 7,
   "metadata": {},
   "outputs": [
    {
     "data": {
      "image/png": "[encoded data removed]",
      "text/plain": [
       "<Figure size 504x504 with 1 Axes>"
      ]
     },
     "metadata": {
      "needs_background": "light"
     },
     "output_type": "display_data"
    }
   ],
   "source": [
    "l = 50 \n",
    "wl = [(rate[n] / m) for n in random_z if original_labels[n] == 1]\n",
    "bl = [(rate[n] / m) for n in random_z if original_labels[n] == -1]\n",
    "\n",
    "hist_wl, bins = np.histogram(wl, bins=np.linspace(0, 1, l + 1), density=True)\n",
    "hist_bl, bins = np.histogram(bl, bins=np.linspace(0, 1, l + 1), density=True)\n",
    "\n",
    "fig, ax = plt.subplots(1, 1, figsize=(7, 7))\n",
    "plot_roc(hist_bl,hist_wl, ax, np.arange(0, l))\n",
    "plt.show()"
   ]
  },
  {
   "cell_type": "code",
   "execution_count": 8,
   "metadata": {},
   "outputs": [
    {
     "data": {
      "image/png": "[encoded data removed]",
      "text/plain": [
       "<Figure size 720x360 with 1 Axes>"
      ]
     },
     "metadata": {
      "needs_background": "light"
     },
     "output_type": "display_data"
    }
   ],
   "source": [
    "x = np.linspace(0, 1, num=l)\n",
    "fig, ax = plt.subplots(1, 1, figsize=(10, 5))\n",
    "plot_pdf(hist_bl, hist_wl, ax, x)\n",
    "plt.show()"
   ]
  },
  {
   "cell_type": "markdown",
   "metadata": {},
   "source": [
    "### Sources:\n",
    "[1] Receiver Operating Characteristic Curves Demystified (in Python), https://towardsdatascience.com/receiver-operating-characteristic-curves-demystified-in-python-bd531a4364d0"
   ]
  }
 ],
 "metadata": {
  "kernelspec": {
   "display_name": "Python 3",
   "language": "python",
   "name": "python3"
  },
  "language_info": {
   "codemirror_mode": {
    "name": "ipython",
    "version": 3
   },
   "file_extension": ".py",
   "mimetype": "text/x-python",
   "name": "python",
   "nbconvert_exporter": "python",
   "pygments_lexer": "ipython3",
   "version": "3.8.0"
  }
 },
 "nbformat": 4,
 "nbformat_minor": 2
}
